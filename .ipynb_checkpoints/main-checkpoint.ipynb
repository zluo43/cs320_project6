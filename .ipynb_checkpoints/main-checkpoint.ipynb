{
 "cells": [
  {
   "cell_type": "code",
   "execution_count": 138,
   "id": "adolescent-mercury",
   "metadata": {},
   "outputs": [],
   "source": [
    "from sklearn.linear_model import LinearRegression\n",
    "from sklearn.model_selection import train_test_split, cross_val_score\n",
    "import numpy as np\n",
    "import pandas as pd\n",
    "from matplotlib import pyplot as plt\n",
    "import time, random\n",
    "from sklearn.pipeline import Pipeline\n",
    "from sklearn.preprocessing import PolynomialFeatures, OneHotEncoder\n",
    "from sklearn.compose import make_column_transformer\n",
    "import sqlite3\n",
    "from zipfile import ZipFile\n",
    "import io\n",
    "import os\n",
    "import re\n",
    "from matplotlib.animation import FuncAnimation\n",
    "from IPython.core.display import HTML"
   ]
  },
  {
   "cell_type": "markdown",
   "id": "considerable-beads",
   "metadata": {},
   "source": [
    "Part 1: Linear Regression"
   ]
  },
  {
   "cell_type": "code",
   "execution_count": 10,
   "id": "mysterious-deficit",
   "metadata": {},
   "outputs": [
    {
     "data": {
      "text/html": [
       "<div>\n",
       "<style scoped>\n",
       "    .dataframe tbody tr th:only-of-type {\n",
       "        vertical-align: middle;\n",
       "    }\n",
       "\n",
       "    .dataframe tbody tr th {\n",
       "        vertical-align: top;\n",
       "    }\n",
       "\n",
       "    .dataframe thead th {\n",
       "        text-align: right;\n",
       "    }\n",
       "</style>\n",
       "<table border=\"1\" class=\"dataframe\">\n",
       "  <thead>\n",
       "    <tr style=\"text-align: right;\">\n",
       "      <th></th>\n",
       "      <th>file_name</th>\n",
       "      <th>district_name</th>\n",
       "      <th>lon</th>\n",
       "      <th>lat</th>\n",
       "      <th>water_ratio</th>\n",
       "      <th>forest_ratio</th>\n",
       "      <th>agriculture_ratio</th>\n",
       "      <th>developed_ratio</th>\n",
       "    </tr>\n",
       "  </thead>\n",
       "  <tbody>\n",
       "    <tr>\n",
       "      <th>132</th>\n",
       "      <td>area0132.npy</td>\n",
       "      <td>district 06</td>\n",
       "      <td>-87.940213</td>\n",
       "      <td>43.750300</td>\n",
       "      <td>0.0058</td>\n",
       "      <td>0.0266</td>\n",
       "      <td>0.5506</td>\n",
       "      <td>0.2990</td>\n",
       "    </tr>\n",
       "    <tr>\n",
       "      <th>309</th>\n",
       "      <td>area0309.npy</td>\n",
       "      <td>district 07</td>\n",
       "      <td>-91.854009</td>\n",
       "      <td>45.352143</td>\n",
       "      <td>0.0002</td>\n",
       "      <td>0.1366</td>\n",
       "      <td>0.8074</td>\n",
       "      <td>0.0401</td>\n",
       "    </tr>\n",
       "    <tr>\n",
       "      <th>341</th>\n",
       "      <td>area0341.npy</td>\n",
       "      <td>district 01</td>\n",
       "      <td>-88.294035</td>\n",
       "      <td>42.656175</td>\n",
       "      <td>0.0010</td>\n",
       "      <td>0.3283</td>\n",
       "      <td>0.2029</td>\n",
       "      <td>0.1805</td>\n",
       "    </tr>\n",
       "    <tr>\n",
       "      <th>196</th>\n",
       "      <td>area0196.npy</td>\n",
       "      <td>district 06</td>\n",
       "      <td>-89.557249</td>\n",
       "      <td>44.187877</td>\n",
       "      <td>0.0000</td>\n",
       "      <td>0.0836</td>\n",
       "      <td>0.8079</td>\n",
       "      <td>0.0412</td>\n",
       "    </tr>\n",
       "    <tr>\n",
       "      <th>246</th>\n",
       "      <td>area0246.npy</td>\n",
       "      <td>district 05</td>\n",
       "      <td>-88.596203</td>\n",
       "      <td>43.159942</td>\n",
       "      <td>0.0002</td>\n",
       "      <td>0.0201</td>\n",
       "      <td>0.6677</td>\n",
       "      <td>0.0921</td>\n",
       "    </tr>\n",
       "    <tr>\n",
       "      <th>...</th>\n",
       "      <td>...</td>\n",
       "      <td>...</td>\n",
       "      <td>...</td>\n",
       "      <td>...</td>\n",
       "      <td>...</td>\n",
       "      <td>...</td>\n",
       "      <td>...</td>\n",
       "      <td>...</td>\n",
       "    </tr>\n",
       "    <tr>\n",
       "      <th>146</th>\n",
       "      <td>area0146.npy</td>\n",
       "      <td>district 08</td>\n",
       "      <td>-87.869312</td>\n",
       "      <td>44.365150</td>\n",
       "      <td>0.0048</td>\n",
       "      <td>0.0249</td>\n",
       "      <td>0.8343</td>\n",
       "      <td>0.0896</td>\n",
       "    </tr>\n",
       "    <tr>\n",
       "      <th>135</th>\n",
       "      <td>area0135.npy</td>\n",
       "      <td>district 06</td>\n",
       "      <td>-87.852985</td>\n",
       "      <td>43.935362</td>\n",
       "      <td>0.0030</td>\n",
       "      <td>0.0463</td>\n",
       "      <td>0.8241</td>\n",
       "      <td>0.0697</td>\n",
       "    </tr>\n",
       "    <tr>\n",
       "      <th>390</th>\n",
       "      <td>area0390.npy</td>\n",
       "      <td>district 01</td>\n",
       "      <td>-88.908064</td>\n",
       "      <td>42.562049</td>\n",
       "      <td>0.0000</td>\n",
       "      <td>0.1818</td>\n",
       "      <td>0.6871</td>\n",
       "      <td>0.0763</td>\n",
       "    </tr>\n",
       "    <tr>\n",
       "      <th>264</th>\n",
       "      <td>area0264.npy</td>\n",
       "      <td>district 01</td>\n",
       "      <td>-87.842951</td>\n",
       "      <td>42.704875</td>\n",
       "      <td>0.0030</td>\n",
       "      <td>0.0376</td>\n",
       "      <td>0.0423</td>\n",
       "      <td>0.8906</td>\n",
       "    </tr>\n",
       "    <tr>\n",
       "      <th>364</th>\n",
       "      <td>area0364.npy</td>\n",
       "      <td>district 01</td>\n",
       "      <td>-87.987364</td>\n",
       "      <td>42.754155</td>\n",
       "      <td>0.0025</td>\n",
       "      <td>0.0498</td>\n",
       "      <td>0.8408</td>\n",
       "      <td>0.0689</td>\n",
       "    </tr>\n",
       "  </tbody>\n",
       "</table>\n",
       "<p>100 rows × 8 columns</p>\n",
       "</div>"
      ],
      "text/plain": [
       "        file_name district_name        lon        lat  water_ratio  \\\n",
       "132  area0132.npy   district 06 -87.940213  43.750300       0.0058   \n",
       "309  area0309.npy   district 07 -91.854009  45.352143       0.0002   \n",
       "341  area0341.npy   district 01 -88.294035  42.656175       0.0010   \n",
       "196  area0196.npy   district 06 -89.557249  44.187877       0.0000   \n",
       "246  area0246.npy   district 05 -88.596203  43.159942       0.0002   \n",
       "..            ...           ...        ...        ...          ...   \n",
       "146  area0146.npy   district 08 -87.869312  44.365150       0.0048   \n",
       "135  area0135.npy   district 06 -87.852985  43.935362       0.0030   \n",
       "390  area0390.npy   district 01 -88.908064  42.562049       0.0000   \n",
       "264  area0264.npy   district 01 -87.842951  42.704875       0.0030   \n",
       "364  area0364.npy   district 01 -87.987364  42.754155       0.0025   \n",
       "\n",
       "     forest_ratio  agriculture_ratio  developed_ratio  \n",
       "132        0.0266             0.5506           0.2990  \n",
       "309        0.1366             0.8074           0.0401  \n",
       "341        0.3283             0.2029           0.1805  \n",
       "196        0.0836             0.8079           0.0412  \n",
       "246        0.0201             0.6677           0.0921  \n",
       "..            ...                ...              ...  \n",
       "146        0.0249             0.8343           0.0896  \n",
       "135        0.0463             0.8241           0.0697  \n",
       "390        0.1818             0.6871           0.0763  \n",
       "264        0.0376             0.0423           0.8906  \n",
       "364        0.0498             0.8408           0.0689  \n",
       "\n",
       "[100 rows x 8 columns]"
      ]
     },
     "execution_count": 10,
     "metadata": {},
     "output_type": "execute_result"
    }
   ],
   "source": [
    "connection = sqlite3.connect(\"data/images.db\")\n",
    "df = pd.read_sql(\"\"\"\n",
    "SELECT file_name, district_name, lon, lat, water_ratio, forest_ratio, agriculture_ratio, developed_ratio\n",
    "FROM sample INNER JOIN districts ON sample.district_id = districts.district_id LIMIT 400\n",
    "\"\"\", connection) \n",
    "train, test = train_test_split(df, random_state=0)\n",
    "df\n",
    "test"
   ]
  },
  {
   "cell_type": "code",
   "execution_count": 11,
   "id": "automatic-rebel",
   "metadata": {},
   "outputs": [
    {
     "data": {
      "text/html": [
       "<div>\n",
       "<style scoped>\n",
       "    .dataframe tbody tr th:only-of-type {\n",
       "        vertical-align: middle;\n",
       "    }\n",
       "\n",
       "    .dataframe tbody tr th {\n",
       "        vertical-align: top;\n",
       "    }\n",
       "\n",
       "    .dataframe thead th {\n",
       "        text-align: right;\n",
       "    }\n",
       "</style>\n",
       "<table border=\"1\" class=\"dataframe\">\n",
       "  <thead>\n",
       "    <tr style=\"text-align: right;\">\n",
       "      <th></th>\n",
       "      <th>file_name</th>\n",
       "      <th>district_name</th>\n",
       "      <th>lon</th>\n",
       "      <th>lat</th>\n",
       "      <th>water_ratio</th>\n",
       "      <th>forest_ratio</th>\n",
       "      <th>agriculture_ratio</th>\n",
       "      <th>developed_ratio</th>\n",
       "    </tr>\n",
       "  </thead>\n",
       "  <tbody>\n",
       "    <tr>\n",
       "      <th>146</th>\n",
       "      <td>area0146.npy</td>\n",
       "      <td>district 08</td>\n",
       "      <td>-87.869312</td>\n",
       "      <td>44.365150</td>\n",
       "      <td>0.0048</td>\n",
       "      <td>0.0249</td>\n",
       "      <td>0.8343</td>\n",
       "      <td>0.0896</td>\n",
       "    </tr>\n",
       "    <tr>\n",
       "      <th>135</th>\n",
       "      <td>area0135.npy</td>\n",
       "      <td>district 06</td>\n",
       "      <td>-87.852985</td>\n",
       "      <td>43.935362</td>\n",
       "      <td>0.0030</td>\n",
       "      <td>0.0463</td>\n",
       "      <td>0.8241</td>\n",
       "      <td>0.0697</td>\n",
       "    </tr>\n",
       "    <tr>\n",
       "      <th>390</th>\n",
       "      <td>area0390.npy</td>\n",
       "      <td>district 01</td>\n",
       "      <td>-88.908064</td>\n",
       "      <td>42.562049</td>\n",
       "      <td>0.0000</td>\n",
       "      <td>0.1818</td>\n",
       "      <td>0.6871</td>\n",
       "      <td>0.0763</td>\n",
       "    </tr>\n",
       "    <tr>\n",
       "      <th>264</th>\n",
       "      <td>area0264.npy</td>\n",
       "      <td>district 01</td>\n",
       "      <td>-87.842951</td>\n",
       "      <td>42.704875</td>\n",
       "      <td>0.0030</td>\n",
       "      <td>0.0376</td>\n",
       "      <td>0.0423</td>\n",
       "      <td>0.8906</td>\n",
       "    </tr>\n",
       "    <tr>\n",
       "      <th>364</th>\n",
       "      <td>area0364.npy</td>\n",
       "      <td>district 01</td>\n",
       "      <td>-87.987364</td>\n",
       "      <td>42.754155</td>\n",
       "      <td>0.0025</td>\n",
       "      <td>0.0498</td>\n",
       "      <td>0.8408</td>\n",
       "      <td>0.0689</td>\n",
       "    </tr>\n",
       "  </tbody>\n",
       "</table>\n",
       "</div>"
      ],
      "text/plain": [
       "        file_name district_name        lon        lat  water_ratio  \\\n",
       "146  area0146.npy   district 08 -87.869312  44.365150       0.0048   \n",
       "135  area0135.npy   district 06 -87.852985  43.935362       0.0030   \n",
       "390  area0390.npy   district 01 -88.908064  42.562049       0.0000   \n",
       "264  area0264.npy   district 01 -87.842951  42.704875       0.0030   \n",
       "364  area0364.npy   district 01 -87.987364  42.754155       0.0025   \n",
       "\n",
       "     forest_ratio  agriculture_ratio  developed_ratio  \n",
       "146        0.0249             0.8343           0.0896  \n",
       "135        0.0463             0.8241           0.0697  \n",
       "390        0.1818             0.6871           0.0763  \n",
       "264        0.0376             0.0423           0.8906  \n",
       "364        0.0498             0.8408           0.0689  "
      ]
     },
     "execution_count": 11,
     "metadata": {},
     "output_type": "execute_result"
    }
   ],
   "source": [
    "#q1: What are the last 5 rows of the test dataset?\n",
    "q1=test.tail()\n",
    "q1"
   ]
  },
  {
   "cell_type": "code",
   "execution_count": 12,
   "id": "arctic-taiwan",
   "metadata": {},
   "outputs": [
    {
     "data": {
      "text/plain": [
       "<AxesSubplot:xlabel='developed_ratio', ylabel='agriculture_ratio'>"
      ]
     },
     "execution_count": 12,
     "metadata": {},
     "output_type": "execute_result"
    },
    {
     "data": {
      "image/png": "[encoded data removed]",
      "text/plain": [
       "<Figure size 432x288 with 1 Axes>"
      ]
     },
     "metadata": {
      "needs_background": "light"
     },
     "output_type": "display_data"
    }
   ],
   "source": [
    "#q2: What is the relationship between developed_ratio and _____? [PLOT]\n",
    "train.plot.scatter(x = 'developed_ratio', y = 'agriculture_ratio')"
   ]
  },
  {
   "cell_type": "code",
   "execution_count": 25,
   "id": "greatest-tobago",
   "metadata": {},
   "outputs": [
    {
     "data": {
      "text/html": [
       "<div>\n",
       "<style scoped>\n",
       "    .dataframe tbody tr th:only-of-type {\n",
       "        vertical-align: middle;\n",
       "    }\n",
       "\n",
       "    .dataframe tbody tr th {\n",
       "        vertical-align: top;\n",
       "    }\n",
       "\n",
       "    .dataframe thead th {\n",
       "        text-align: right;\n",
       "    }\n",
       "</style>\n",
       "<table border=\"1\" class=\"dataframe\">\n",
       "  <thead>\n",
       "    <tr style=\"text-align: right;\">\n",
       "      <th></th>\n",
       "      <th>file_name</th>\n",
       "      <th>district_name</th>\n",
       "      <th>lon</th>\n",
       "      <th>lat</th>\n",
       "      <th>water_ratio</th>\n",
       "      <th>forest_ratio</th>\n",
       "      <th>agriculture_ratio</th>\n",
       "      <th>developed_ratio</th>\n",
       "      <th>predicted</th>\n",
       "    </tr>\n",
       "  </thead>\n",
       "  <tbody>\n",
       "    <tr>\n",
       "      <th>132</th>\n",
       "      <td>area0132.npy</td>\n",
       "      <td>district 06</td>\n",
       "      <td>-87.940213</td>\n",
       "      <td>43.750300</td>\n",
       "      <td>0.0058</td>\n",
       "      <td>0.0266</td>\n",
       "      <td>0.5506</td>\n",
       "      <td>0.2990</td>\n",
       "      <td>0.187514</td>\n",
       "    </tr>\n",
       "    <tr>\n",
       "      <th>309</th>\n",
       "      <td>area0309.npy</td>\n",
       "      <td>district 07</td>\n",
       "      <td>-91.854009</td>\n",
       "      <td>45.352143</td>\n",
       "      <td>0.0002</td>\n",
       "      <td>0.1366</td>\n",
       "      <td>0.8074</td>\n",
       "      <td>0.0401</td>\n",
       "      <td>-0.155128</td>\n",
       "    </tr>\n",
       "    <tr>\n",
       "      <th>341</th>\n",
       "      <td>area0341.npy</td>\n",
       "      <td>district 01</td>\n",
       "      <td>-88.294035</td>\n",
       "      <td>42.656175</td>\n",
       "      <td>0.0010</td>\n",
       "      <td>0.3283</td>\n",
       "      <td>0.2029</td>\n",
       "      <td>0.1805</td>\n",
       "      <td>0.376093</td>\n",
       "    </tr>\n",
       "    <tr>\n",
       "      <th>196</th>\n",
       "      <td>area0196.npy</td>\n",
       "      <td>district 06</td>\n",
       "      <td>-89.557249</td>\n",
       "      <td>44.187877</td>\n",
       "      <td>0.0000</td>\n",
       "      <td>0.0836</td>\n",
       "      <td>0.8079</td>\n",
       "      <td>0.0412</td>\n",
       "      <td>-0.054414</td>\n",
       "    </tr>\n",
       "    <tr>\n",
       "      <th>246</th>\n",
       "      <td>area0246.npy</td>\n",
       "      <td>district 05</td>\n",
       "      <td>-88.596203</td>\n",
       "      <td>43.159942</td>\n",
       "      <td>0.0002</td>\n",
       "      <td>0.0201</td>\n",
       "      <td>0.6677</td>\n",
       "      <td>0.0921</td>\n",
       "      <td>0.188176</td>\n",
       "    </tr>\n",
       "  </tbody>\n",
       "</table>\n",
       "</div>"
      ],
      "text/plain": [
       "        file_name district_name        lon        lat  water_ratio  \\\n",
       "132  area0132.npy   district 06 -87.940213  43.750300       0.0058   \n",
       "309  area0309.npy   district 07 -91.854009  45.352143       0.0002   \n",
       "341  area0341.npy   district 01 -88.294035  42.656175       0.0010   \n",
       "196  area0196.npy   district 06 -89.557249  44.187877       0.0000   \n",
       "246  area0246.npy   district 05 -88.596203  43.159942       0.0002   \n",
       "\n",
       "     forest_ratio  agriculture_ratio  developed_ratio  predicted  \n",
       "132        0.0266             0.5506           0.2990   0.187514  \n",
       "309        0.1366             0.8074           0.0401  -0.155128  \n",
       "341        0.3283             0.2029           0.1805   0.376093  \n",
       "196        0.0836             0.8079           0.0412  -0.054414  \n",
       "246        0.0201             0.6677           0.0921   0.188176  "
      ]
     },
     "execution_count": 25,
     "metadata": {},
     "output_type": "execute_result"
    }
   ],
   "source": [
    "#q3: What are the developed_ratio predictions of a Linear model on the first 5 test points?\n",
    "lr=LinearRegression()\n",
    "df_prediction=test.copy()\n",
    "feature= ['lat','lon','water_ratio','forest_ratio','agriculture_ratio'] #list in bracekt so it remians as a dataframe\n",
    "d_ratio='developed_ratio'\n",
    "lr.fit(train[feature],train[d_ratio])\n",
    "df_prediction['predicted']=lr.predict(test[feature])\n",
    "df_prediction.head()"
   ]
  },
  {
   "cell_type": "code",
   "execution_count": 45,
   "id": "dramatic-consumption",
   "metadata": {},
   "outputs": [
    {
     "data": {
      "text/plain": [
       "0.7138077753811825"
      ]
     },
     "execution_count": 45,
     "metadata": {},
     "output_type": "execute_result"
    }
   ],
   "source": [
    "#q4: How does the model score when evaluated against the test dataset?\n",
    "lr.score(test[feature],test['developed_ratio'])\n"
   ]
  },
  {
   "cell_type": "code",
   "execution_count": 46,
   "id": "willing-washington",
   "metadata": {},
   "outputs": [
    {
     "data": {
      "text/plain": [
       "<AxesSubplot:xlabel='developed_ratio', ylabel='predicted'>"
      ]
     },
     "execution_count": 46,
     "metadata": {},
     "output_type": "execute_result"
    },
    {
     "data": {
      "image/png": "[encoded data removed]",
      "text/plain": [
       "<Figure size 432x288 with 1 Axes>"
      ]
     },
     "metadata": {
      "needs_background": "light"
     },
     "output_type": "display_data"
    }
   ],
   "source": [
    "#q5: How do the predictions compare to the actual values? [PLOT]\n",
    "df_prediction.plot.scatter(x = 'developed_ratio', y = 'predicted')"
   ]
  },
  {
   "cell_type": "code",
   "execution_count": 52,
   "id": "important-script",
   "metadata": {},
   "outputs": [
    {
     "name": "stdout",
     "output_type": "stream",
     "text": [
      "[-0.11061346 -0.02894837 -0.70219215 -0.72965589 -0.78825866]\n"
     ]
    },
    {
     "data": {
      "text/plain": [
       "<AxesSubplot:>"
      ]
     },
     "execution_count": 52,
     "metadata": {},
     "output_type": "execute_result"
    },
    {
     "data": {
      "image/png": "[encoded data removed]",
      "text/plain": [
       "<Figure size 432x288 with 1 Axes>"
      ]
     },
     "metadata": {
      "needs_background": "light"
     },
     "output_type": "display_data"
    }
   ],
   "source": [
    "#q6: What are the coefficients for each feature in your model? [PLOT]\n",
    "c=lr.coef_\n",
    "print (c)\n",
    "pd.Series(c,index = feature).plot.bar()"
   ]
  },
  {
   "cell_type": "code",
   "execution_count": 54,
   "id": "exterior-parish",
   "metadata": {},
   "outputs": [
    {
     "data": {
      "text/plain": [
       "0.8420970788505493"
      ]
     },
     "execution_count": 54,
     "metadata": {},
     "output_type": "execute_result"
    }
   ],
   "source": [
    " #q7:Can we beat our simple model's score of 0.756 with a more complicated model?\n",
    "complex_model = Pipeline([('both',make_column_transformer((OneHotEncoder(),['district_name']),(PolynomialFeatures(degree = 2,include_bias=False),\n",
    "                                                                                                ['water_ratio','forest_ratio','agriculture_ratio']),\n",
    "                                    remainder = \"passthrough\")),\n",
    "    ('lr', LinearRegression())])\n",
    "complex_model.fit(train[['district_name','lat','lon','water_ratio','forest_ratio','agriculture_ratio']],\n",
    "                   train['developed_ratio'])\n",
    "complex_model.score(test[['district_name','lat','lon','water_ratio','forest_ratio','agriculture_ratio']],\n",
    "                     test['developed_ratio'])\n",
    "    \n",
    "#Yes by doing this we can make it better "
   ]
  },
  {
   "cell_type": "markdown",
   "id": "grateful-convenience",
   "metadata": {},
   "source": [
    "Part 2: Cross Validation"
   ]
  },
  {
   "cell_type": "code",
   "execution_count": 60,
   "id": "invalid-prescription",
   "metadata": {},
   "outputs": [
    {
     "name": "stdout",
     "output_type": "stream",
     "text": [
      "0.6517545836308132 0.7882683505969756\n"
     ]
    },
    {
     "data": {
      "text/plain": [
       "(0.6517545836308132, 0.7882683505969756)"
      ]
     },
     "execution_count": 60,
     "metadata": {},
     "output_type": "execute_result"
    }
   ],
   "source": [
    "#Q8: what are the mean (average) scores for simple and complex models, respectively?\n",
    "simple_score = cross_val_score(\n",
    "    lr,\n",
    "    train[['lat','lon','water_ratio','forest_ratio','agriculture_ratio']],\n",
    "    train['developed_ratio'],\n",
    "    cv = 8)\n",
    "\n",
    "complex_score = cross_val_score(\n",
    "    complex_model,\n",
    "    train[['district_name','lat','lon','water_ratio','forest_ratio','agriculture_ratio']],\n",
    "    train['developed_ratio'],\n",
    "    cv = 8)\n",
    "print (simple_score.mean(),complex_score.mean())\n",
    "\n",
    "(simple_score.mean(),complex_score.mean())\n"
   ]
  },
  {
   "cell_type": "code",
   "execution_count": 59,
   "id": "southeast-ethics",
   "metadata": {},
   "outputs": [
    {
     "data": {
      "text/plain": [
       "(0.11307460959365212, 0.06667525211477948)"
      ]
     },
     "execution_count": 59,
     "metadata": {},
     "output_type": "execute_result"
    }
   ],
   "source": [
    "#q9: what is the standard deviation of scores for each model?\n",
    "(np.std(simple_score),np.std(complex_score))"
   ]
  },
  {
   "cell_type": "markdown",
   "id": "sudden-investigator",
   "metadata": {},
   "source": [
    "Part 3: Computing Feature Metrics\n"
   ]
  },
  {
   "cell_type": "code",
   "execution_count": 62,
   "id": "controlled-marketing",
   "metadata": {},
   "outputs": [
    {
     "data": {
      "text/html": [
       "<div>\n",
       "<style scoped>\n",
       "    .dataframe tbody tr th:only-of-type {\n",
       "        vertical-align: middle;\n",
       "    }\n",
       "\n",
       "    .dataframe tbody tr th {\n",
       "        vertical-align: top;\n",
       "    }\n",
       "\n",
       "    .dataframe thead th {\n",
       "        text-align: right;\n",
       "    }\n",
       "</style>\n",
       "<table border=\"1\" class=\"dataframe\">\n",
       "  <thead>\n",
       "    <tr style=\"text-align: right;\">\n",
       "      <th></th>\n",
       "      <th>file_name</th>\n",
       "      <th>district_name</th>\n",
       "      <th>lon</th>\n",
       "      <th>lat</th>\n",
       "      <th>water_ratio</th>\n",
       "      <th>forest_ratio</th>\n",
       "      <th>agriculture_ratio</th>\n",
       "      <th>developed_ratio</th>\n",
       "    </tr>\n",
       "  </thead>\n",
       "  <tbody>\n",
       "    <tr>\n",
       "      <th>0</th>\n",
       "      <td>area0000.npy</td>\n",
       "      <td>district 03</td>\n",
       "      <td>-91.094093</td>\n",
       "      <td>43.750081</td>\n",
       "      <td>0.0000</td>\n",
       "      <td>0.6065</td>\n",
       "      <td>0.3520</td>\n",
       "      <td>0.0371</td>\n",
       "    </tr>\n",
       "    <tr>\n",
       "      <th>1</th>\n",
       "      <td>area0001.npy</td>\n",
       "      <td>district 06</td>\n",
       "      <td>-88.441833</td>\n",
       "      <td>44.206438</td>\n",
       "      <td>0.1914</td>\n",
       "      <td>0.0005</td>\n",
       "      <td>0.0040</td>\n",
       "      <td>0.7953</td>\n",
       "    </tr>\n",
       "    <tr>\n",
       "      <th>2</th>\n",
       "      <td>area0002.npy</td>\n",
       "      <td>district 07</td>\n",
       "      <td>-90.757041</td>\n",
       "      <td>45.801727</td>\n",
       "      <td>0.0140</td>\n",
       "      <td>0.6794</td>\n",
       "      <td>0.0000</td>\n",
       "      <td>0.0000</td>\n",
       "    </tr>\n",
       "    <tr>\n",
       "      <th>3</th>\n",
       "      <td>area0003.npy</td>\n",
       "      <td>district 08</td>\n",
       "      <td>-88.234996</td>\n",
       "      <td>44.788954</td>\n",
       "      <td>0.0002</td>\n",
       "      <td>0.1254</td>\n",
       "      <td>0.5502</td>\n",
       "      <td>0.0390</td>\n",
       "    </tr>\n",
       "    <tr>\n",
       "      <th>4</th>\n",
       "      <td>area0004.npy</td>\n",
       "      <td>district 04</td>\n",
       "      <td>-87.954035</td>\n",
       "      <td>43.078655</td>\n",
       "      <td>0.0000</td>\n",
       "      <td>0.0014</td>\n",
       "      <td>0.0030</td>\n",
       "      <td>0.9948</td>\n",
       "    </tr>\n",
       "    <tr>\n",
       "      <th>...</th>\n",
       "      <td>...</td>\n",
       "      <td>...</td>\n",
       "      <td>...</td>\n",
       "      <td>...</td>\n",
       "      <td>...</td>\n",
       "      <td>...</td>\n",
       "      <td>...</td>\n",
       "      <td>...</td>\n",
       "    </tr>\n",
       "    <tr>\n",
       "      <th>1995</th>\n",
       "      <td>area1995.npy</td>\n",
       "      <td>district 01</td>\n",
       "      <td>-88.960584</td>\n",
       "      <td>42.591088</td>\n",
       "      <td>NaN</td>\n",
       "      <td>NaN</td>\n",
       "      <td>NaN</td>\n",
       "      <td>NaN</td>\n",
       "    </tr>\n",
       "    <tr>\n",
       "      <th>1996</th>\n",
       "      <td>area1996.npy</td>\n",
       "      <td>district 01</td>\n",
       "      <td>-88.530275</td>\n",
       "      <td>42.714524</td>\n",
       "      <td>NaN</td>\n",
       "      <td>NaN</td>\n",
       "      <td>NaN</td>\n",
       "      <td>NaN</td>\n",
       "    </tr>\n",
       "    <tr>\n",
       "      <th>1997</th>\n",
       "      <td>area1997.npy</td>\n",
       "      <td>district 07</td>\n",
       "      <td>-89.828437</td>\n",
       "      <td>45.408001</td>\n",
       "      <td>NaN</td>\n",
       "      <td>NaN</td>\n",
       "      <td>NaN</td>\n",
       "      <td>NaN</td>\n",
       "    </tr>\n",
       "    <tr>\n",
       "      <th>1998</th>\n",
       "      <td>area1998.npy</td>\n",
       "      <td>district 03</td>\n",
       "      <td>-91.276886</td>\n",
       "      <td>43.994077</td>\n",
       "      <td>NaN</td>\n",
       "      <td>NaN</td>\n",
       "      <td>NaN</td>\n",
       "      <td>NaN</td>\n",
       "    </tr>\n",
       "    <tr>\n",
       "      <th>1999</th>\n",
       "      <td>area1999.npy</td>\n",
       "      <td>district 08</td>\n",
       "      <td>-88.103273</td>\n",
       "      <td>44.636279</td>\n",
       "      <td>NaN</td>\n",
       "      <td>NaN</td>\n",
       "      <td>NaN</td>\n",
       "      <td>NaN</td>\n",
       "    </tr>\n",
       "  </tbody>\n",
       "</table>\n",
       "<p>2000 rows × 8 columns</p>\n",
       "</div>"
      ],
      "text/plain": [
       "         file_name district_name        lon        lat  water_ratio  \\\n",
       "0     area0000.npy   district 03 -91.094093  43.750081       0.0000   \n",
       "1     area0001.npy   district 06 -88.441833  44.206438       0.1914   \n",
       "2     area0002.npy   district 07 -90.757041  45.801727       0.0140   \n",
       "3     area0003.npy   district 08 -88.234996  44.788954       0.0002   \n",
       "4     area0004.npy   district 04 -87.954035  43.078655       0.0000   \n",
       "...            ...           ...        ...        ...          ...   \n",
       "1995  area1995.npy   district 01 -88.960584  42.591088          NaN   \n",
       "1996  area1996.npy   district 01 -88.530275  42.714524          NaN   \n",
       "1997  area1997.npy   district 07 -89.828437  45.408001          NaN   \n",
       "1998  area1998.npy   district 03 -91.276886  43.994077          NaN   \n",
       "1999  area1999.npy   district 08 -88.103273  44.636279          NaN   \n",
       "\n",
       "      forest_ratio  agriculture_ratio  developed_ratio  \n",
       "0           0.6065             0.3520           0.0371  \n",
       "1           0.0005             0.0040           0.7953  \n",
       "2           0.6794             0.0000           0.0000  \n",
       "3           0.1254             0.5502           0.0390  \n",
       "4           0.0014             0.0030           0.9948  \n",
       "...            ...                ...              ...  \n",
       "1995           NaN                NaN              NaN  \n",
       "1996           NaN                NaN              NaN  \n",
       "1997           NaN                NaN              NaN  \n",
       "1998           NaN                NaN              NaN  \n",
       "1999           NaN                NaN              NaN  \n",
       "\n",
       "[2000 rows x 8 columns]"
      ]
     },
     "execution_count": 62,
     "metadata": {},
     "output_type": "execute_result"
    }
   ],
   "source": [
    "connection = sqlite3.connect(\"data/images.db\")\n",
    "df2 = pd.read_sql(\"\"\"\n",
    "SELECT file_name, district_name, lon, lat, water_ratio, forest_ratio, agriculture_ratio, developed_ratio\n",
    "FROM sample\n",
    "INNER JOIN districts ON sample.district_id = districts.district_id\n",
    "\"\"\", connection)\n",
    "df2"
   ]
  },
  {
   "cell_type": "code",
   "execution_count": 94,
   "id": "sonic-europe",
   "metadata": {},
   "outputs": [],
   "source": [
    "def encode_ratio_value(array):\n",
    "    #\"water\" as code 11, \"forest\" as codes 41-43, \"agriculture\" as codes 81-82, and \"developed\" as codes 21-24\n",
    "    water_ratio=[11]\n",
    "    forest_ratio=[41,42,43]\n",
    "    agriculture_ratio=[81,82]\n",
    "    developed_ratio=[21,22,23,24]\n",
    "    arr=array.reshape(-1,1) #vertical column dimension\n",
    "    #using isin to get a boolean matrix; .sum() gives a number for all True result, and thus the ratio\n",
    "    return (np.isin(arr,water_ratio).sum()/len(arr),\n",
    "            np.isin(arr,forest_ratio).sum()/len(arr),\n",
    "            np.isin(arr,agriculture_ratio).sum()/len(arr),\n",
    "            np.isin(arr,developed_ratio).sum()/len(arr))     \n"
   ]
  },
  {
   "cell_type": "code",
   "execution_count": 96,
   "id": "generic-carpet",
   "metadata": {},
   "outputs": [],
   "source": [
    "#missing value starts at row 400\n",
    "\n",
    "for i in range(400,2000):\n",
    "    file_name=df2.loc[i,:][0]\n",
    "    with ZipFile('data/images.zip') as zf:\n",
    "        with zf.open(file_name) as f:\n",
    "            buf = io.BytesIO(f.read())\n",
    "            map_array = np.load(buf)\n",
    "            df2.iloc[i,4:] = encode_ratio_value(map_array)        #all the features are missing, startingfrom col 4"
   ]
  },
  {
   "cell_type": "code",
   "execution_count": 97,
   "id": "accomplished-recruitment",
   "metadata": {},
   "outputs": [
    {
     "data": {
      "text/plain": [
       "80"
      ]
     },
     "execution_count": 97,
     "metadata": {},
     "output_type": "execute_result"
    }
   ],
   "source": [
    "#Q10: How many cells in all of area1234.npy contain code 52?\n",
    "with ZipFile('data/images.zip') as zf:\n",
    "    with zf.open('area1234.npy') as f:\n",
    "        buf = io.BytesIO(f.read())\n",
    "        map_array = np.load(buf)\n",
    "np.isin(map_array.reshape(-1,1),52).sum()"
   ]
  },
  {
   "cell_type": "code",
   "execution_count": 103,
   "id": "classified-arbitration",
   "metadata": {},
   "outputs": [
    {
     "data": {
      "text/html": [
       "<div>\n",
       "<style scoped>\n",
       "    .dataframe tbody tr th:only-of-type {\n",
       "        vertical-align: middle;\n",
       "    }\n",
       "\n",
       "    .dataframe tbody tr th {\n",
       "        vertical-align: top;\n",
       "    }\n",
       "\n",
       "    .dataframe thead th {\n",
       "        text-align: right;\n",
       "    }\n",
       "</style>\n",
       "<table border=\"1\" class=\"dataframe\">\n",
       "  <thead>\n",
       "    <tr style=\"text-align: right;\">\n",
       "      <th></th>\n",
       "      <th>file_name</th>\n",
       "      <th>district_name</th>\n",
       "      <th>lon</th>\n",
       "      <th>lat</th>\n",
       "      <th>water_ratio</th>\n",
       "      <th>forest_ratio</th>\n",
       "      <th>agriculture_ratio</th>\n",
       "      <th>developed_ratio</th>\n",
       "    </tr>\n",
       "  </thead>\n",
       "  <tbody>\n",
       "    <tr>\n",
       "      <th>936</th>\n",
       "      <td>area0936.npy</td>\n",
       "      <td>district 03</td>\n",
       "      <td>-92.152574</td>\n",
       "      <td>44.502114</td>\n",
       "      <td>0.0000</td>\n",
       "      <td>0.4248</td>\n",
       "      <td>0.5276</td>\n",
       "      <td>0.0396</td>\n",
       "    </tr>\n",
       "    <tr>\n",
       "      <th>1524</th>\n",
       "      <td>area1524.npy</td>\n",
       "      <td>district 02</td>\n",
       "      <td>-90.151901</td>\n",
       "      <td>43.211515</td>\n",
       "      <td>0.0002</td>\n",
       "      <td>0.1870</td>\n",
       "      <td>0.7766</td>\n",
       "      <td>0.0344</td>\n",
       "    </tr>\n",
       "    <tr>\n",
       "      <th>1415</th>\n",
       "      <td>area1415.npy</td>\n",
       "      <td>district 05</td>\n",
       "      <td>-88.921017</td>\n",
       "      <td>43.197963</td>\n",
       "      <td>0.0001</td>\n",
       "      <td>0.0543</td>\n",
       "      <td>0.6463</td>\n",
       "      <td>0.0305</td>\n",
       "    </tr>\n",
       "    <tr>\n",
       "      <th>1223</th>\n",
       "      <td>area1223.npy</td>\n",
       "      <td>district 04</td>\n",
       "      <td>-87.906383</td>\n",
       "      <td>43.074510</td>\n",
       "      <td>0.0145</td>\n",
       "      <td>0.0169</td>\n",
       "      <td>0.0060</td>\n",
       "      <td>0.9189</td>\n",
       "    </tr>\n",
       "    <tr>\n",
       "      <th>1548</th>\n",
       "      <td>area1548.npy</td>\n",
       "      <td>district 03</td>\n",
       "      <td>-90.359220</td>\n",
       "      <td>43.570773</td>\n",
       "      <td>0.0000</td>\n",
       "      <td>0.2854</td>\n",
       "      <td>0.6702</td>\n",
       "      <td>0.0395</td>\n",
       "    </tr>\n",
       "  </tbody>\n",
       "</table>\n",
       "</div>"
      ],
      "text/plain": [
       "         file_name district_name        lon        lat  water_ratio  \\\n",
       "936   area0936.npy   district 03 -92.152574  44.502114       0.0000   \n",
       "1524  area1524.npy   district 02 -90.151901  43.211515       0.0002   \n",
       "1415  area1415.npy   district 05 -88.921017  43.197963       0.0001   \n",
       "1223  area1223.npy   district 04 -87.906383  43.074510       0.0145   \n",
       "1548  area1548.npy   district 03 -90.359220  43.570773       0.0000   \n",
       "\n",
       "      forest_ratio  agriculture_ratio  developed_ratio  \n",
       "936         0.4248             0.5276           0.0396  \n",
       "1524        0.1870             0.7766           0.0344  \n",
       "1415        0.0543             0.6463           0.0305  \n",
       "1223        0.0169             0.0060           0.9189  \n",
       "1548        0.2854             0.6702           0.0395  "
      ]
     },
     "execution_count": 103,
     "metadata": {},
     "output_type": "execute_result"
    }
   ],
   "source": [
    "#Q11: What are the last 5 rows of the new test dataset?\n",
    "train2, test2 = train_test_split(df2, random_state=0)\n",
    "test2.tail()"
   ]
  },
  {
   "cell_type": "code",
   "execution_count": 106,
   "id": "reserved-ocean",
   "metadata": {},
   "outputs": [
    {
     "data": {
      "text/html": [
       "<div>\n",
       "<style scoped>\n",
       "    .dataframe tbody tr th:only-of-type {\n",
       "        vertical-align: middle;\n",
       "    }\n",
       "\n",
       "    .dataframe tbody tr th {\n",
       "        vertical-align: top;\n",
       "    }\n",
       "\n",
       "    .dataframe thead th {\n",
       "        text-align: right;\n",
       "    }\n",
       "</style>\n",
       "<table border=\"1\" class=\"dataframe\">\n",
       "  <thead>\n",
       "    <tr style=\"text-align: right;\">\n",
       "      <th></th>\n",
       "      <th>file_name</th>\n",
       "      <th>district_name</th>\n",
       "      <th>lon</th>\n",
       "      <th>lat</th>\n",
       "      <th>water_ratio</th>\n",
       "      <th>forest_ratio</th>\n",
       "      <th>agriculture_ratio</th>\n",
       "      <th>developed_ratio</th>\n",
       "    </tr>\n",
       "  </thead>\n",
       "  <tbody>\n",
       "    <tr>\n",
       "      <th>1045</th>\n",
       "      <td>area1045.npy</td>\n",
       "      <td>district 04</td>\n",
       "      <td>-87.987848</td>\n",
       "      <td>43.109481</td>\n",
       "      <td>0.0010</td>\n",
       "      <td>0.0073</td>\n",
       "      <td>0.0041</td>\n",
       "      <td>0.9771</td>\n",
       "    </tr>\n",
       "    <tr>\n",
       "      <th>937</th>\n",
       "      <td>area0937.npy</td>\n",
       "      <td>district 05</td>\n",
       "      <td>-88.647044</td>\n",
       "      <td>43.310665</td>\n",
       "      <td>0.0001</td>\n",
       "      <td>0.0532</td>\n",
       "      <td>0.8389</td>\n",
       "      <td>0.0559</td>\n",
       "    </tr>\n",
       "    <tr>\n",
       "      <th>1658</th>\n",
       "      <td>area1658.npy</td>\n",
       "      <td>district 04</td>\n",
       "      <td>-87.970109</td>\n",
       "      <td>43.191382</td>\n",
       "      <td>0.0433</td>\n",
       "      <td>0.0742</td>\n",
       "      <td>0.0580</td>\n",
       "      <td>0.6605</td>\n",
       "    </tr>\n",
       "    <tr>\n",
       "      <th>529</th>\n",
       "      <td>area0529.npy</td>\n",
       "      <td>district 02</td>\n",
       "      <td>-90.131632</td>\n",
       "      <td>42.910160</td>\n",
       "      <td>0.0000</td>\n",
       "      <td>0.0819</td>\n",
       "      <td>0.8087</td>\n",
       "      <td>0.0981</td>\n",
       "    </tr>\n",
       "    <tr>\n",
       "      <th>895</th>\n",
       "      <td>area0895.npy</td>\n",
       "      <td>district 01</td>\n",
       "      <td>-88.329272</td>\n",
       "      <td>42.658921</td>\n",
       "      <td>0.0014</td>\n",
       "      <td>0.0960</td>\n",
       "      <td>0.6284</td>\n",
       "      <td>0.0521</td>\n",
       "    </tr>\n",
       "    <tr>\n",
       "      <th>...</th>\n",
       "      <td>...</td>\n",
       "      <td>...</td>\n",
       "      <td>...</td>\n",
       "      <td>...</td>\n",
       "      <td>...</td>\n",
       "      <td>...</td>\n",
       "      <td>...</td>\n",
       "      <td>...</td>\n",
       "    </tr>\n",
       "    <tr>\n",
       "      <th>835</th>\n",
       "      <td>area0835.npy</td>\n",
       "      <td>district 05</td>\n",
       "      <td>-88.193178</td>\n",
       "      <td>43.179645</td>\n",
       "      <td>0.0006</td>\n",
       "      <td>0.1344</td>\n",
       "      <td>0.4339</td>\n",
       "      <td>0.1502</td>\n",
       "    </tr>\n",
       "    <tr>\n",
       "      <th>1216</th>\n",
       "      <td>area1216.npy</td>\n",
       "      <td>district 05</td>\n",
       "      <td>-88.637597</td>\n",
       "      <td>43.045962</td>\n",
       "      <td>0.0007</td>\n",
       "      <td>0.0634</td>\n",
       "      <td>0.6788</td>\n",
       "      <td>0.0437</td>\n",
       "    </tr>\n",
       "    <tr>\n",
       "      <th>1653</th>\n",
       "      <td>area1653.npy</td>\n",
       "      <td>district 05</td>\n",
       "      <td>-88.170471</td>\n",
       "      <td>43.015347</td>\n",
       "      <td>0.0143</td>\n",
       "      <td>0.1511</td>\n",
       "      <td>0.1095</td>\n",
       "      <td>0.5175</td>\n",
       "    </tr>\n",
       "    <tr>\n",
       "      <th>559</th>\n",
       "      <td>area0559.npy</td>\n",
       "      <td>district 08</td>\n",
       "      <td>-88.116382</td>\n",
       "      <td>44.041477</td>\n",
       "      <td>0.0027</td>\n",
       "      <td>0.0185</td>\n",
       "      <td>0.6862</td>\n",
       "      <td>0.0350</td>\n",
       "    </tr>\n",
       "    <tr>\n",
       "      <th>684</th>\n",
       "      <td>area0684.npy</td>\n",
       "      <td>district 07</td>\n",
       "      <td>-90.290763</td>\n",
       "      <td>46.239928</td>\n",
       "      <td>0.0682</td>\n",
       "      <td>0.3513</td>\n",
       "      <td>0.0000</td>\n",
       "      <td>0.0393</td>\n",
       "    </tr>\n",
       "  </tbody>\n",
       "</table>\n",
       "<p>1500 rows × 8 columns</p>\n",
       "</div>"
      ],
      "text/plain": [
       "         file_name district_name        lon        lat  water_ratio  \\\n",
       "1045  area1045.npy   district 04 -87.987848  43.109481       0.0010   \n",
       "937   area0937.npy   district 05 -88.647044  43.310665       0.0001   \n",
       "1658  area1658.npy   district 04 -87.970109  43.191382       0.0433   \n",
       "529   area0529.npy   district 02 -90.131632  42.910160       0.0000   \n",
       "895   area0895.npy   district 01 -88.329272  42.658921       0.0014   \n",
       "...            ...           ...        ...        ...          ...   \n",
       "835   area0835.npy   district 05 -88.193178  43.179645       0.0006   \n",
       "1216  area1216.npy   district 05 -88.637597  43.045962       0.0007   \n",
       "1653  area1653.npy   district 05 -88.170471  43.015347       0.0143   \n",
       "559   area0559.npy   district 08 -88.116382  44.041477       0.0027   \n",
       "684   area0684.npy   district 07 -90.290763  46.239928       0.0682   \n",
       "\n",
       "      forest_ratio  agriculture_ratio  developed_ratio  \n",
       "1045        0.0073             0.0041           0.9771  \n",
       "937         0.0532             0.8389           0.0559  \n",
       "1658        0.0742             0.0580           0.6605  \n",
       "529         0.0819             0.8087           0.0981  \n",
       "895         0.0960             0.6284           0.0521  \n",
       "...            ...                ...              ...  \n",
       "835         0.1344             0.4339           0.1502  \n",
       "1216        0.0634             0.6788           0.0437  \n",
       "1653        0.1511             0.1095           0.5175  \n",
       "559         0.0185             0.6862           0.0350  \n",
       "684         0.3513             0.0000           0.0393  \n",
       "\n",
       "[1500 rows x 8 columns]"
      ]
     },
     "execution_count": 106,
     "metadata": {},
     "output_type": "execute_result"
    }
   ],
   "source": [
    "train2\n"
   ]
  },
  {
   "cell_type": "code",
   "execution_count": 107,
   "id": "reported-street",
   "metadata": {},
   "outputs": [
    {
     "data": {
      "text/plain": [
       "(0.7729881088121584, 0.8842058969526818)"
      ]
     },
     "execution_count": 107,
     "metadata": {},
     "output_type": "execute_result"
    }
   ],
   "source": [
    "#Q12: what are the mean (average) scores for simple and complex models, respectively, on the larger dataset?\n",
    "\n",
    "\n",
    "simple_score2 = cross_val_score(\n",
    "    lr,\n",
    "    train2[['lat','lon','water_ratio','forest_ratio','agriculture_ratio']],\n",
    "    train2['developed_ratio'],\n",
    "    cv = 8)\n",
    "\n",
    "complex_score2 = cross_val_score(\n",
    "    complex_model,\n",
    "    train2[['district_name','lat','lon','water_ratio','forest_ratio','agriculture_ratio']],\n",
    "    train2['developed_ratio'],\n",
    "    cv = 8)\n",
    "#print (simple_score.mean(),complex_score.mean())\n",
    "\n",
    "(simple_score2.mean(),complex_score2.mean())"
   ]
  },
  {
   "cell_type": "code",
   "execution_count": 158,
   "id": "tested-proxy",
   "metadata": {},
   "outputs": [],
   "source": [
    "#map annotation \n",
    "\n",
    "\n",
    "with ZipFile(\"data/madison.zip\") as zf:\n",
    "    with zf.open(\"year-2001.npy\") as f:\n",
    "        buf = io.BytesIO(f.read())\n",
    "        madison_01 = np.load(buf)\n",
    "    with zf.open(\"year-2016.npy\") as f:\n",
    "        buf = io.BytesIO(f.read())\n",
    "        madison_16 = np.load(buf)"
   ]
  },
  {
   "cell_type": "code",
   "execution_count": 159,
   "id": "recognized-think",
   "metadata": {},
   "outputs": [
    {
     "data": {
      "text/plain": [
       "(1200, 1200)"
      ]
     },
     "execution_count": 159,
     "metadata": {},
     "output_type": "execute_result"
    }
   ],
   "source": [
    "#Q13: What is the shape of the 2001 Madison matrix?\n",
    "madison_01.shape"
   ]
  },
  {
   "cell_type": "code",
   "execution_count": 126,
   "id": "greater-block",
   "metadata": {},
   "outputs": [
    {
     "data": {
      "text/plain": [
       "0.06156458333333333"
      ]
     },
     "execution_count": 126,
     "metadata": {},
     "output_type": "execute_result"
    }
   ],
   "source": [
    "#Q14: What portion of the points in Madison changed from 2001 to 2016?\n",
    "\n",
    "madison_16.shape\n",
    "\n",
    "diff_ratio=((madison_16 !=madison_01).sum())/(1200*1200)\n",
    "diff_ratio"
   ]
  },
  {
   "cell_type": "code",
   "execution_count": 129,
   "id": "dynamic-cotton",
   "metadata": {},
   "outputs": [
    {
     "data": {
      "text/plain": [
       "<_io.BytesIO at 0x7fe8989520a0>"
      ]
     },
     "execution_count": 129,
     "metadata": {},
     "output_type": "execute_result"
    }
   ],
   "source": [
    "\n"
   ]
  },
  {
   "cell_type": "code",
   "execution_count": 137,
   "id": "demographic-guidance",
   "metadata": {},
   "outputs": [
    {
     "data": {
      "text/plain": [
       "['2001', '2004', '2006', '2008', '2011', '2013', '2016']"
      ]
     },
     "execution_count": 137,
     "metadata": {},
     "output_type": "execute_result"
    }
   ],
   "source": [
    "#Q15: What years appear in madison.zip\n",
    "l = []\n",
    "with ZipFile(\"data/madison.zip\") as zf:\n",
    "    file_list = zf.namelist()\n",
    "    for name in file_list:\n",
    "        l.append(name)\n",
    "l=str(l)\n",
    "numbers = re.findall('[0-9]+', l)\n",
    "numbers"
   ]
  },
  {
   "cell_type": "code",
   "execution_count": 174,
   "id": "surface-syria",
   "metadata": {},
   "outputs": [
    {
     "ename": "RuntimeError",
     "evalue": "Requested MovieWriter (ffmpeg) not available",
     "output_type": "error",
     "traceback": [
      "\u001b[0;31m---------------------------------------------------------------------------\u001b[0m",
      "\u001b[0;31mRuntimeError\u001b[0m                              Traceback (most recent call last)",
      "\u001b[0;32m<ipython-input-174-808ed870aee0>\u001b[0m in \u001b[0;36m<module>\u001b[0;34m\u001b[0m\n\u001b[1;32m     51\u001b[0m \u001b[0mfig\u001b[0m\u001b[0;34m,\u001b[0m \u001b[0maxes\u001b[0m \u001b[0;34m=\u001b[0m \u001b[0mplt\u001b[0m\u001b[0;34m.\u001b[0m\u001b[0msubplots\u001b[0m\u001b[0;34m(\u001b[0m\u001b[0;34m)\u001b[0m\u001b[0;34m\u001b[0m\u001b[0;34m\u001b[0m\u001b[0m\n\u001b[1;32m     52\u001b[0m \u001b[0mfa\u001b[0m\u001b[0;34m=\u001b[0m \u001b[0mFuncAnimation\u001b[0m\u001b[0;34m(\u001b[0m\u001b[0mfig\u001b[0m\u001b[0;34m,\u001b[0m \u001b[0mdraw_frame\u001b[0m\u001b[0;34m,\u001b[0m \u001b[0mframes\u001b[0m \u001b[0;34m=\u001b[0m \u001b[0;36m7\u001b[0m\u001b[0;34m,\u001b[0m\u001b[0minterval\u001b[0m\u001b[0;34m=\u001b[0m\u001b[0;36m1000\u001b[0m\u001b[0;34m)\u001b[0m\u001b[0;34m\u001b[0m\u001b[0;34m\u001b[0m\u001b[0m\n\u001b[0;32m---> 53\u001b[0;31m \u001b[0mhtml\u001b[0m \u001b[0;34m=\u001b[0m \u001b[0mfa\u001b[0m\u001b[0;34m.\u001b[0m\u001b[0mto_html5_video\u001b[0m\u001b[0;34m(\u001b[0m\u001b[0;34m)\u001b[0m\u001b[0;34m\u001b[0m\u001b[0;34m\u001b[0m\u001b[0m\n\u001b[0m\u001b[1;32m     54\u001b[0m \u001b[0mplt\u001b[0m\u001b[0;34m.\u001b[0m\u001b[0mclose\u001b[0m\u001b[0;34m(\u001b[0m\u001b[0;34m)\u001b[0m\u001b[0;34m\u001b[0m\u001b[0;34m\u001b[0m\u001b[0m\n\u001b[1;32m     55\u001b[0m \u001b[0mHTML\u001b[0m\u001b[0;34m(\u001b[0m\u001b[0mvid\u001b[0m\u001b[0;34m)\u001b[0m\u001b[0;34m\u001b[0m\u001b[0;34m\u001b[0m\u001b[0m\n",
      "\u001b[0;32m~/.local/lib/python3.6/site-packages/matplotlib/animation.py\u001b[0m in \u001b[0;36mto_html5_video\u001b[0;34m(self, embed_limit)\u001b[0m\n\u001b[1;32m   1330\u001b[0m                 \u001b[0;31m# We create a writer manually so that we can get the\u001b[0m\u001b[0;34m\u001b[0m\u001b[0;34m\u001b[0m\u001b[0;34m\u001b[0m\u001b[0m\n\u001b[1;32m   1331\u001b[0m                 \u001b[0;31m# appropriate size for the tag\u001b[0m\u001b[0;34m\u001b[0m\u001b[0;34m\u001b[0m\u001b[0;34m\u001b[0m\u001b[0m\n\u001b[0;32m-> 1332\u001b[0;31m                 \u001b[0mWriter\u001b[0m \u001b[0;34m=\u001b[0m \u001b[0mwriters\u001b[0m\u001b[0;34m[\u001b[0m\u001b[0mmpl\u001b[0m\u001b[0;34m.\u001b[0m\u001b[0mrcParams\u001b[0m\u001b[0;34m[\u001b[0m\u001b[0;34m'animation.writer'\u001b[0m\u001b[0;34m]\u001b[0m\u001b[0;34m]\u001b[0m\u001b[0;34m\u001b[0m\u001b[0;34m\u001b[0m\u001b[0m\n\u001b[0m\u001b[1;32m   1333\u001b[0m                 writer = Writer(codec='h264',\n\u001b[1;32m   1334\u001b[0m                                 \u001b[0mbitrate\u001b[0m\u001b[0;34m=\u001b[0m\u001b[0mmpl\u001b[0m\u001b[0;34m.\u001b[0m\u001b[0mrcParams\u001b[0m\u001b[0;34m[\u001b[0m\u001b[0;34m'animation.bitrate'\u001b[0m\u001b[0;34m]\u001b[0m\u001b[0;34m,\u001b[0m\u001b[0;34m\u001b[0m\u001b[0;34m\u001b[0m\u001b[0m\n",
      "\u001b[0;32m~/.local/lib/python3.6/site-packages/matplotlib/animation.py\u001b[0m in \u001b[0;36m__getitem__\u001b[0;34m(self, name)\u001b[0m\n\u001b[1;32m    164\u001b[0m         \u001b[0;32mif\u001b[0m \u001b[0mself\u001b[0m\u001b[0;34m.\u001b[0m\u001b[0mis_available\u001b[0m\u001b[0;34m(\u001b[0m\u001b[0mname\u001b[0m\u001b[0;34m)\u001b[0m\u001b[0;34m:\u001b[0m\u001b[0;34m\u001b[0m\u001b[0;34m\u001b[0m\u001b[0m\n\u001b[1;32m    165\u001b[0m             \u001b[0;32mreturn\u001b[0m \u001b[0mself\u001b[0m\u001b[0;34m.\u001b[0m\u001b[0m_registered\u001b[0m\u001b[0;34m[\u001b[0m\u001b[0mname\u001b[0m\u001b[0;34m]\u001b[0m\u001b[0;34m\u001b[0m\u001b[0;34m\u001b[0m\u001b[0m\n\u001b[0;32m--> 166\u001b[0;31m         \u001b[0;32mraise\u001b[0m \u001b[0mRuntimeError\u001b[0m\u001b[0;34m(\u001b[0m\u001b[0;34mf\"Requested MovieWriter ({name}) not available\"\u001b[0m\u001b[0;34m)\u001b[0m\u001b[0;34m\u001b[0m\u001b[0;34m\u001b[0m\u001b[0m\n\u001b[0m\u001b[1;32m    167\u001b[0m \u001b[0;34m\u001b[0m\u001b[0m\n\u001b[1;32m    168\u001b[0m \u001b[0;34m\u001b[0m\u001b[0m\n",
      "\u001b[0;31mRuntimeError\u001b[0m: Requested MovieWriter (ffmpeg) not available"
     ]
    },
    {
     "data": {
      "image/png": "[encoded data removed]",
      "text/plain": [
       "<Figure size 432x288 with 1 Axes>"
      ]
     },
     "metadata": {
      "needs_background": "light"
     },
     "output_type": "display_data"
    }
   ],
   "source": [
    "#Q16: How has Madison evolved over the years? [VIDEO]\n",
    "\n",
    "from matplotlib.colors import ListedColormap\n",
    "\n",
    "def get_usage_colormap():\n",
    "    use_cmap = np.zeros(shape=(256,4))\n",
    "    use_cmap[:,-1] = 1\n",
    "    uses = np.array([\n",
    "        [0, 0.00000000000, 0.00000000000, 0.00000000000],\n",
    "        [11, 0.27843137255, 0.41960784314, 0.62745098039],\n",
    "        [12, 0.81960784314, 0.86666666667, 0.97647058824],\n",
    "        [21, 0.86666666667, 0.78823529412, 0.78823529412],\n",
    "        [22, 0.84705882353, 0.57647058824, 0.50980392157],\n",
    "        [23, 0.92941176471, 0.00000000000, 0.00000000000],\n",
    "        [24, 0.66666666667, 0.00000000000, 0.00000000000],\n",
    "        [31, 0.69803921569, 0.67843137255, 0.63921568628],\n",
    "        [41, 0.40784313726, 0.66666666667, 0.38823529412],\n",
    "        [42, 0.10980392157, 0.38823529412, 0.18823529412],\n",
    "        [43, 0.70980392157, 0.78823529412, 0.55686274510],\n",
    "        [51, 0.64705882353, 0.54901960784, 0.18823529412],\n",
    "        [52, 0.80000000000, 0.72941176471, 0.48627450980],\n",
    "        [71, 0.88627450980, 0.88627450980, 0.75686274510],\n",
    "        [72, 0.78823529412, 0.78823529412, 0.46666666667],\n",
    "        [73, 0.60000000000, 0.75686274510, 0.27843137255],\n",
    "        [74, 0.46666666667, 0.67843137255, 0.57647058824],\n",
    "        [81, 0.85882352941, 0.84705882353, 0.23921568628],\n",
    "        [82, 0.66666666667, 0.43921568628, 0.15686274510],\n",
    "        [90, 0.72941176471, 0.84705882353, 0.91764705882],\n",
    "        [95, 0.43921568628, 0.63921568628, 0.72941176471],\n",
    "    ])\n",
    "    for row in uses:\n",
    "        use_cmap[int(row[0]),:-1] = row[1:]\n",
    "    return ListedColormap(use_cmap)\n",
    "\n",
    "\n",
    "\n",
    "\n",
    "def draw_frame(frame):\n",
    "    ax.cla()\n",
    "    #l=[]\n",
    "    with ZipFile(\"data/madison.zip\") as zf:\n",
    "        file_list= zf.namelist()\n",
    "        name = file_list[frame]\n",
    "        with zf.open(name) as f:\n",
    "            buf = io.BytesIO(f.read())\n",
    "            image = np.load(buf)\n",
    "    axes.imshow(image, vmin=0, vmax=255,cmap = get_usage_colormap())\n",
    "    #axes.set_title\n",
    "    \n",
    "    \n",
    "fig, axes = plt.subplots()\n",
    "fa= FuncAnimation(fig, draw_frame, frames = 7,interval=1000)\n",
    "html = fa.to_html5_video()\n",
    "plt.close()\n",
    "HTML(vid)\n",
    "\n"
   ]
  },
  {
   "cell_type": "code",
   "execution_count": 172,
   "id": "therapeutic-stable",
   "metadata": {},
   "outputs": [
    {
     "name": "stdout",
     "output_type": "stream",
     "text": [
      "['year-2001.npy', 'year-2004.npy', 'year-2006.npy', 'year-2008.npy', 'year-2011.npy', 'year-2013.npy', 'year-2016.npy']\n"
     ]
    },
    {
     "ename": "ValueError",
     "evalue": "Attempt to use ZIP archive that was already closed",
     "output_type": "error",
     "traceback": [
      "\u001b[0;31m---------------------------------------------------------------------------\u001b[0m",
      "\u001b[0;31mValueError\u001b[0m                                Traceback (most recent call last)",
      "\u001b[0;32m<ipython-input-172-c1abd1df7e4b>\u001b[0m in \u001b[0;36m<module>\u001b[0;34m\u001b[0m\n\u001b[1;32m      5\u001b[0m         \u001b[0;31m#name = file_list[frame]\u001b[0m\u001b[0;34m\u001b[0m\u001b[0;34m\u001b[0m\u001b[0;34m\u001b[0m\u001b[0m\n\u001b[1;32m      6\u001b[0m \u001b[0;32mfor\u001b[0m \u001b[0mi\u001b[0m \u001b[0;32min\u001b[0m \u001b[0mfile_list\u001b[0m\u001b[0;34m:\u001b[0m\u001b[0;34m\u001b[0m\u001b[0;34m\u001b[0m\u001b[0m\n\u001b[0;32m----> 7\u001b[0;31m     \u001b[0;32mwith\u001b[0m \u001b[0mzf\u001b[0m\u001b[0;34m.\u001b[0m\u001b[0mopen\u001b[0m\u001b[0;34m(\u001b[0m\u001b[0mi\u001b[0m\u001b[0;34m)\u001b[0m \u001b[0;32mas\u001b[0m \u001b[0mf\u001b[0m\u001b[0;34m:\u001b[0m\u001b[0;34m\u001b[0m\u001b[0;34m\u001b[0m\u001b[0m\n\u001b[0m\u001b[1;32m      8\u001b[0m         \u001b[0mbuf\u001b[0m \u001b[0;34m=\u001b[0m \u001b[0mio\u001b[0m\u001b[0;34m.\u001b[0m\u001b[0mBytesIO\u001b[0m\u001b[0;34m(\u001b[0m\u001b[0mf\u001b[0m\u001b[0;34m.\u001b[0m\u001b[0mread\u001b[0m\u001b[0;34m(\u001b[0m\u001b[0;34m)\u001b[0m\u001b[0;34m)\u001b[0m\u001b[0;34m\u001b[0m\u001b[0;34m\u001b[0m\u001b[0m\n\u001b[1;32m      9\u001b[0m         \u001b[0mimage\u001b[0m \u001b[0;34m=\u001b[0m \u001b[0mnp\u001b[0m\u001b[0;34m.\u001b[0m\u001b[0mload\u001b[0m\u001b[0;34m(\u001b[0m\u001b[0mbuf\u001b[0m\u001b[0;34m)\u001b[0m\u001b[0;34m\u001b[0m\u001b[0;34m\u001b[0m\u001b[0m\n",
      "\u001b[0;32m/usr/lib/python3.6/zipfile.py\u001b[0m in \u001b[0;36mopen\u001b[0;34m(self, name, mode, pwd, force_zip64)\u001b[0m\n\u001b[1;32m   1362\u001b[0m         \u001b[0;32mif\u001b[0m \u001b[0;32mnot\u001b[0m \u001b[0mself\u001b[0m\u001b[0;34m.\u001b[0m\u001b[0mfp\u001b[0m\u001b[0;34m:\u001b[0m\u001b[0;34m\u001b[0m\u001b[0;34m\u001b[0m\u001b[0m\n\u001b[1;32m   1363\u001b[0m             raise ValueError(\n\u001b[0;32m-> 1364\u001b[0;31m                 \"Attempt to use ZIP archive that was already closed\")\n\u001b[0m\u001b[1;32m   1365\u001b[0m \u001b[0;34m\u001b[0m\u001b[0m\n\u001b[1;32m   1366\u001b[0m         \u001b[0;31m# Make sure we have an info object\u001b[0m\u001b[0;34m\u001b[0m\u001b[0;34m\u001b[0m\u001b[0;34m\u001b[0m\u001b[0m\n",
      "\u001b[0;31mValueError\u001b[0m: Attempt to use ZIP archive that was already closed"
     ]
    }
   ],
   "source": [
    "s=[]\n",
    "with ZipFile(\"data/madison.zip\") as zf:\n",
    "        file_list= zf.namelist()\n",
    "        print (file_list)\n",
    "        #name = file_list[frame]\n",
    "for i in file_list:\n",
    "    with zf.open(i) as f:\n",
    "        buf = io.BytesIO(f.read())\n",
    "        image = np.load(buf)"
   ]
  },
  {
   "cell_type": "code",
   "execution_count": null,
   "id": "impossible-customer",
   "metadata": {},
   "outputs": [],
   "source": []
  },
  {
   "cell_type": "code",
   "execution_count": 150,
   "id": "conservative-genealogy",
   "metadata": {},
   "outputs": [],
   "source": []
  },
  {
   "cell_type": "code",
   "execution_count": 153,
   "id": "grateful-conspiracy",
   "metadata": {},
   "outputs": [],
   "source": []
  },
  {
   "cell_type": "code",
   "execution_count": null,
   "id": "ready-playing",
   "metadata": {},
   "outputs": [],
   "source": []
  }
 ],
 "metadata": {
  "kernelspec": {
   "display_name": "Python 3",
   "language": "python",
   "name": "python3"
  },
  "language_info": {
   "codemirror_mode": {
    "name": "ipython",
    "version": 3
   },
   "file_extension": ".py",
   "mimetype": "text/x-python",
   "name": "python",
   "nbconvert_exporter": "python",
   "pygments_lexer": "ipython3",
   "version": "3.6.9"
  }
 },
 "nbformat": 4,
 "nbformat_minor": 5
}
